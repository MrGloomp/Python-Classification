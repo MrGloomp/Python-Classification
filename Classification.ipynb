{
 "cells": [
  {
   "cell_type": "code",
   "execution_count": 12,
   "id": "d08aa667",
   "metadata": {},
   "outputs": [],
   "source": [
    "from sklearn.feature_extraction.text import CountVectorizer\n",
    "from sklearn.metrics import accuracy_score\n",
    "from sklearn.tree import DecisionTreeClassifier\n",
    "from sklearn.metrics import accuracy_score,confusion_matrix\n",
    "from sklearn import tree\n",
    "from sklearn.neighbors import KNeighborsClassifier\n",
    "from sklearn.ensemble import VotingClassifier\n",
    "from sklearn.ensemble import RandomForestClassifier\n",
    "from sklearn.naive_bayes import MultinomialNB\n",
    "from sklearn.model_selection import GridSearchCV\n",
    "import pandas as pd\n",
    "from sklearn.model_selection import train_test_split\n",
    "import pandas as pd\n",
    "import matplotlib.pyplot as plt\n",
    "import warnings\n",
    "from pandas.core.common import SettingWithCopyWarning\n",
    "warnings.simplefilter(action=\"ignore\", category=SettingWithCopyWarning)"
   ]
  },
  {
   "cell_type": "code",
   "execution_count": 15,
   "id": "0db81461",
   "metadata": {},
   "outputs": [],
   "source": [
    "train_data=pd.read_csv('train_data.csv')\n",
    "test_data=pd.read_csv('test_data.csv')\n",
    "\n",
    "train_text=train_data['reviews.text']\n",
    "test_text=test_data['reviews.text']\n",
    "train_labels=train_data['reviews.rating']\n",
    "test_labels=test_data['reviews.rating']\n",
    "\n",
    "counter = CountVectorizer()\n",
    "counter.fit(train_text)\n",
    "\n",
    "counts_train = counter.transform(train_text)\n",
    "counts_test = counter.transform(test_text)\n",
    "\n",
    "vocabulary=[x[0] for x in sorted(counter.vocabulary_.items(),key=lambda x:x[1])]"
   ]
  },
  {
   "cell_type": "code",
   "execution_count": 22,
   "id": "42b0d024",
   "metadata": {},
   "outputs": [
    {
     "data": {
      "text/plain": [
       "0.7321619260265994"
      ]
     },
     "execution_count": 22,
     "metadata": {},
     "output_type": "execute_result"
    }
   ],
   "source": [
    "model=RandomForestClassifier()\n",
    "         \n",
    "model.fit(counts_train, train_labels)\n",
    "\n",
    "pred=model.predict(counts_test)\n",
    "\n",
    "accuracy_score(test_labels,pred)"
   ]
  },
  {
   "cell_type": "code",
   "execution_count": null,
   "id": "e5769056",
   "metadata": {},
   "outputs": [],
   "source": []
  }
 ],
 "metadata": {
  "kernelspec": {
   "display_name": "Python 3 (ipykernel)",
   "language": "python",
   "name": "python3"
  },
  "language_info": {
   "codemirror_mode": {
    "name": "ipython",
    "version": 3
   },
   "file_extension": ".py",
   "mimetype": "text/x-python",
   "name": "python",
   "nbconvert_exporter": "python",
   "pygments_lexer": "ipython3",
   "version": "3.10.9"
  }
 },
 "nbformat": 4,
 "nbformat_minor": 5
}
